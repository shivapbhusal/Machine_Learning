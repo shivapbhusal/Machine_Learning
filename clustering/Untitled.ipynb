{
 "cells": [
  {
   "cell_type": "code",
   "execution_count": 12,
   "metadata": {},
   "outputs": [
    {
     "name": "stdout",
     "output_type": "stream",
     "text": [
      "[[1, 1]]\n",
      "[[2, 1], [3, 1], [3, 2], [10, 10], [10, 15], [12, 15]]\n"
     ]
    }
   ],
   "source": [
    "import matplotlib.pyplot as plt\n",
    "import math \n",
    "def findDistance(list1, list2):\n",
    "    distance=math.sqrt(pow((list1[0]-list2[0]),2)+pow((list1[1]-list2[1]),2))\n",
    "    return distance\n",
    "\n",
    "def findNewCenter(cluster):\n",
    "    x=0\n",
    "    y=0\n",
    "    count=0\n",
    "    for points in cluster:\n",
    "        x=x+points[0]\n",
    "        y=y+points[1]\n",
    "        count=count+1\n",
    "    x=x/count \n",
    "    y=y/count \n",
    "    return [x,y]\n",
    "    \n",
    "testData=[[1,1],[2,1],[3,1],[3,2],[10,10],[10,15],[12,15]]\n",
    "c1=[1,1]\n",
    "c2=[2,1]\n",
    "cluster1=[]\n",
    "cluster2=[]\n",
    "\n",
    "\n",
    "while (newc1!=c1 and newc2!=c2):\n",
    "    for points in testData:\n",
    "    dist1=findDistance(points,c1)\n",
    "    dist2=findDistance(points, c2)\n",
    "    if dist1<dist2:\n",
    "        cluster1.append(points)\n",
    "    else:\n",
    "        cluster2.append(points)\n",
    "    \n",
    "    newc1=findNewCenter(cluster1)\n",
    "    newc2=findNewCenter(cluster2)\n",
    "    \n",
    "\n",
    "print(cluster1)\n",
    "print(cluster2)\n",
    "    \n",
    "    \n",
    "    \n",
    "    "
   ]
  }
 ],
 "metadata": {
  "kernelspec": {
   "display_name": "Python 3",
   "language": "python",
   "name": "python3"
  },
  "language_info": {
   "codemirror_mode": {
    "name": "ipython",
    "version": 3
   },
   "file_extension": ".py",
   "mimetype": "text/x-python",
   "name": "python",
   "nbconvert_exporter": "python",
   "pygments_lexer": "ipython3",
   "version": "3.6.2"
  }
 },
 "nbformat": 4,
 "nbformat_minor": 2
}
