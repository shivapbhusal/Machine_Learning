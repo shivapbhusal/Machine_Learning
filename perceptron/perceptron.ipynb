{
 "cells": [
  {
   "cell_type": "code",
   "execution_count": 13,
   "metadata": {},
   "outputs": [
    {
     "data": {
      "image/png": "[encoded data removed]",
      "text/plain": [
       "<matplotlib.figure.Figure at 0x7fc935756198>"
      ]
     },
     "metadata": {},
     "output_type": "display_data"
    }
   ],
   "source": [
    "import matplotlib.pyplot as plt\n",
    "plt.plot([4.5,4,5.5,6,4], [6,7,6,6.5,6], 'ro')  #Class A \n",
    "plt.plot([-2,-2.5,-2,-3,-3], [-2.5,-2.5,-3,-4.5,-4], 'go') #Class B \n",
    "plt.plot([-6.5,-7,-6,-8,-8],[8,7.5,10,8.5,9.5],'bo') # Class C\n",
    "plt.axis([-15, 15, -15, 15])\n",
    "plt.show()"
   ]
  },
  {
   "cell_type": "code",
   "execution_count": 18,
   "metadata": {
    "collapsed": true
   },
   "outputs": [],
   "source": []
  },
  {
   "cell_type": "code",
   "execution_count": 15,
   "metadata": {},
   "outputs": [],
   "source": [
    "THETA=0.1\n",
    "INSTANCES=8\n",
    "LEARNING_RATE=0.5\n",
    "MAX_ITER=8 "
   ]
  },
  {
   "cell_type": "code",
   "execution_count": 30,
   "metadata": {},
   "outputs": [
    {
     "name": "stdout",
     "output_type": "stream",
     "text": [
      "4,6:\n",
      "7.403693586251542e+83\n",
      "4.535661531278212e+81\n",
      "-1.370224710260343e+104\n",
      "Class A\n",
      "-3,-4:\n",
      "-5.444105078060439e+83\n",
      "-2.0256618078302102e+81\n",
      "9.206942262204239e+103\n",
      "Class C\n",
      "-8,9.5:\n",
      "3.4294947007678244e+83\n",
      "3.349767053402456e+82\n",
      "-3.1598240873450448e+103\n",
      "Class A\n"
     ]
    }
   ],
   "source": [
    "THETA=0\n",
    "INSTANCES=8\n",
    "LEARNING_RATE=0.5\n",
    "MAX_ITER=8 \n",
    "\n",
    "def calculateOutput(theta,weights, x,y):\n",
    "    total=x*weights[0]+y*weights[1]+weights[2]\n",
    "    return total\n",
    "\n",
    "def classify(total):\n",
    "    if total>THETA:\n",
    "        return \"Class A\"\n",
    "    else:\n",
    "        return \"class B\"\n",
    "\n",
    "def findWeights(X,Y):\n",
    "    weights=[0.2,0.2,0.2] \n",
    "    outputs=[1,1,1,1,0,0,0,0]\n",
    "\n",
    "    globalError=10\n",
    "    iteration=0\n",
    "\n",
    "    while globalError!=0 and iteration<=MAX_ITER:\n",
    "        globalError=0\n",
    "        for i in range(INSTANCES):\n",
    "            output=calculateOutput(THETA,weights,float(X[i]),float(Y[i]))\n",
    "            localError=float(outputs[i])-output\n",
    "            weights[0]=float(weights[0])+LEARNING_RATE*localError*X[i]\n",
    "            weights[1]=float(weights[1])+LEARNING_RATE*localError*Y[i]\n",
    "            weights[2]=float(weights[2])+LEARNING_RATE*localError\n",
    "            globalError=globalError+localError*localError\n",
    "        iteration=iteration+1\n",
    "    return weights    \n",
    "\n",
    "XAB=[4.5,4,5.5,6,-2,-2.5,-2,-3]\n",
    "YAB=[6,7,6,6.5,-2.5,-2.5,-3,-4.5]\n",
    "\n",
    "XBC=[-2,-2.5,-2,-3,-6.5,-7,-6,-8]\n",
    "YBC=[-2.5,-2.5,-3,-4.5,8,7.5,10,8.5]\n",
    "\n",
    "XCA=[-6.5,-7,-6,-8,4.5,4,5.5,6]\n",
    "YCA=[8,7.5,10,8.5,6,7,6,6.5]\n",
    "\n",
    "NewPoints=[[]]\n",
    "\n",
    "def findClass(x,y):\n",
    "    print(str(x)+\",\"+str(y)+\":\")\n",
    "    print(calculateOutput(THETA,findWeights(XAB,YAB),x,y))\n",
    "    print(calculateOutput(THETA,findWeights(XBC,YBC),x,y))\n",
    "    print(calculateOutput(THETA,findWeights(XCA,YCA),x,y))\n",
    "    \n",
    "    if calculateOutput(THETA,findWeights(XAB,YAB),x,y)>calculateOutput(THETA,findWeights(XBC,YBC),3.5,3.5) and calculateOutput(THETA,findWeights(XAB,YAB),3.5,3.5)>calculateOutput(THETA,findWeights(XCA,YCA),3.5,3.5):\n",
    "        print(\"Class A\")\n",
    "    elif calculateOutput(THETA,findWeights(XBC,YBC),x,y)>calculateOutput(THETA,findWeights(XAB,YAB),3.5,3.5) and calculateOutput(THETA,findWeights(XBC,YBC),3.5,3.5):\n",
    "        print(\"Class B\")\n",
    "    else:\n",
    "        print(\"Class C\") \n",
    "\n",
    "\n",
    "NewPoints=[[4,6],[-3,-4],[-8,9.5]]\n",
    "\n",
    "for x,y in NewPoints:\n",
    "    findClass(x,y)\n"
   ]
  },
  {
   "cell_type": "code",
   "execution_count": null,
   "metadata": {
    "collapsed": true
   },
   "outputs": [],
   "source": []
  }
 ],
 "metadata": {
  "kernelspec": {
   "display_name": "Python 3",
   "language": "python",
   "name": "python3"
  },
  "language_info": {
   "codemirror_mode": {
    "name": "ipython",
    "version": 3
   },
   "file_extension": ".py",
   "mimetype": "text/x-python",
   "name": "python",
   "nbconvert_exporter": "python",
   "pygments_lexer": "ipython3",
   "version": "3.6.2"
  }
 },
 "nbformat": 4,
 "nbformat_minor": 2
}
