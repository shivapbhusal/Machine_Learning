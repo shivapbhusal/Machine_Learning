{
 "cells": [
  {
   "cell_type": "code",
   "execution_count": 17,
   "metadata": {},
   "outputs": [
    {
     "data": {
      "image/png": "[encoded data removed]",
      "text/plain": [
       "<matplotlib.figure.Figure at 0x7f7b6fbf0c18>"
      ]
     },
     "metadata": {},
     "output_type": "display_data"
    }
   ],
   "source": [
    "import matplotlib.pyplot as plt\n",
    "plt.plot([4.5,4,5.5,6,4,5,5,5.5], [6,7,6,6.5,6,6,7,8], 'ro')  #Class A \n",
    "plt.plot([-2,-2.5,-2,-3,-3,-2,-2.4], [-2.5,-2.5,-3,-4.5,-4,-4.2,-3], 'go') #Class B \n",
    "plt.plot([-6.5,-7,-6,-8,-8,-7,-7,-6.3],[8,7.5,10,8.5,9.5,7.2,9,8],'bo') # Class C\n",
    "plt.axis([-15, 15, -15, 15])\n",
    "plt.show()"
   ]
  },
  {
   "cell_type": "code",
   "execution_count": 18,
   "metadata": {
    "collapsed": true
   },
   "outputs": [],
   "source": []
  },
  {
   "cell_type": "code",
   "execution_count": 15,
   "metadata": {
    "collapsed": true
   },
   "outputs": [],
   "source": []
  },
  {
   "cell_type": "code",
   "execution_count": 26,
   "metadata": {},
   "outputs": [
    {
     "name": "stdout",
     "output_type": "stream",
     "text": [
      "[5.548503058162194e+82, 7.803249718985045e+82, 1.1099623076794246e+82]\n",
      "[3.0012705805653757e+49, 3.475657991365709e+49, -1.2197597752196966e+49]\n",
      "[1.5052145303525642e+98, -1.9422295358454902e+98, -2.1502179554700346e+97]\n",
      "308528101727397972952614214169365353674247896211364290122930994828218346062364016640\n",
      "77888264982315333514811931854044978017657008685056\n",
      "-3070791862889967194999692716801785966218412027767677087177797543181690655218459410937559528817819648\n"
     ]
    },
    {
     "data": {
      "text/plain": [
       "'Class A'"
      ]
     },
     "execution_count": 26,
     "metadata": {},
     "output_type": "execute_result"
    }
   ],
   "source": [
    "THETA=0\n",
    "INSTANCES=7\n",
    "LEARNING_RATE=0.5\n",
    "MAX_ITER=7 \n",
    "\n",
    "def calculateOutput(theta,weights, x,y):\n",
    "    total=x*weights[0]+y*weights[1]+weights[2]\n",
    "    return total\n",
    "\n",
    "def classify(x,y):\n",
    "    A=calculateOutput(THETA,findWeights(XA,YA),x,y)\n",
    "    B=calculateOutput(THETA,findWeights(XB,YB),x,y)\n",
    "    C=calculateOutput(THETA,findWeights(XC,YC),x,y)\n",
    "    \n",
    "    print(int(A))\n",
    "    print(int(B))\n",
    "    print(int(C))\n",
    "    \n",
    "    if A>B and A>C:\n",
    "        return \"Class A\"\n",
    "    elif B>A and B>C:\n",
    "        return \"Class B\"\n",
    "    else:\n",
    "        return \"Class C\"\n",
    "\n",
    "\n",
    "def findWeights(X,Y):\n",
    "    weights=[0.2,0.2,0.2] \n",
    "    outputs=[1,1,1,1,1,1,1]\n",
    "\n",
    "    globalError=1\n",
    "    iteration=0\n",
    "\n",
    "    while globalError!=0 and iteration<=MAX_ITER:\n",
    "        globalError=0\n",
    "        for i in range(INSTANCES):\n",
    "            output=calculateOutput(THETA,weights,float(X[i]),float(Y[i]))\n",
    "            localError=float(outputs[i])-output\n",
    "            weights[0]=float(weights[0])+LEARNING_RATE*localError*X[i]\n",
    "            weights[1]=float(weights[1])+LEARNING_RATE*localError*Y[i]\n",
    "            weights[2]=float(weights[2])+LEARNING_RATE*localError\n",
    "            globalError=globalError+localError*localError\n",
    "        iteration=iteration+1\n",
    "    print(weights)\n",
    "    return weights  \n",
    "\n",
    "XA=[4.5,4,5.5,6,4,5,5]\n",
    "YA=[6,7,6,6.5,6,6,7]\n",
    "XB=[-2,-2.5,-2,-3,-3,-2,-2.4]\n",
    "YB=[-2.5,-2.5,-3,-4.5,-4,-4.2,-3]\n",
    "XC=[-6.5,-7,-6,-8,-8,-7,-7]\n",
    "YC=[8,7.5,10,8.5,9.5,7.2,9]\n",
    "\n",
    "testPoints=[[4,6],[-3,-4],[-8,9.5]]\n",
    "\n",
    "classify(-8,9.5)"
   ]
  },
  {
   "cell_type": "code",
   "execution_count": null,
   "metadata": {
    "collapsed": true
   },
   "outputs": [],
   "source": []
  }
 ],
 "metadata": {
  "kernelspec": {
   "display_name": "Python 3",
   "language": "python",
   "name": "python3"
  },
  "language_info": {
   "codemirror_mode": {
    "name": "ipython",
    "version": 3
   },
   "file_extension": ".py",
   "mimetype": "text/x-python",
   "name": "python",
   "nbconvert_exporter": "python",
   "pygments_lexer": "ipython3",
   "version": "3.6.2"
  }
 },
 "nbformat": 4,
 "nbformat_minor": 2
}
